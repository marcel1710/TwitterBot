{
  "nbformat": 4,
  "nbformat_minor": 0,
  "metadata": {
    "kernelspec": {
      "display_name": "Python 3",
      "language": "python",
      "name": "python3"
    },
    "language_info": {
      "codemirror_mode": {
        "name": "ipython",
        "version": 3
      },
      "file_extension": ".py",
      "mimetype": "text/x-python",
      "name": "python",
      "nbconvert_exporter": "python",
      "pygments_lexer": "ipython3",
      "version": "3.7.1"
    },
    "colab": {
      "name": "TwitterBot.ipynb",
      "provenance": [],
      "collapsed_sections": [],
      "include_colab_link": true
    }
  },
  "cells": [
    {
      "cell_type": "markdown",
      "metadata": {
        "id": "view-in-github",
        "colab_type": "text"
      },
      "source": [
        "<a href=\"https://colab.research.google.com/github/marcel1710/TwitterBot/blob/main/TwitterBot.ipynb\" target=\"_parent\"><img src=\"https://colab.research.google.com/assets/colab-badge.svg\" alt=\"Open In Colab\"/></a>"
      ]
    },
    {
      "cell_type": "code",
      "metadata": {
        "id": "2DUcL_QV1gkg"
      },
      "source": [
        "# https://www.youtube.com/watch?v=ujId4ipkBio"
      ],
      "execution_count": 57,
      "outputs": []
    },
    {
      "cell_type": "code",
      "metadata": {
        "scrolled": true,
        "colab": {
          "base_uri": "https://localhost:8080/"
        },
        "id": "P_bvbuK7t7Db",
        "outputId": "2c231f65-ab80-4a34-c14f-8cfa5c3e9e4a"
      },
      "source": [
        "import pandas as pd\n",
        "import tweepy\n",
        "from textblob import TextBlob\n",
        "from wordcloud import WordCloud\n",
        "\n",
        "import nltk\n",
        "nltk.download('punkt')\n",
        "from nltk.corpus import stopwords\n",
        "nltk.download('stopwords')\n",
        "\n",
        "stop = stopwords.words('english')\n",
        "\n",
        "\n",
        "from nltk.stem import PorterStemmer\n",
        "from nltk.stem.snowball import SnowballStemmer\n",
        "from nltk.stem.lancaster import LancasterStemmer\n",
        "from nltk.stem import WordNetLemmatizer\n",
        "from nltk.tokenize import MWETokenizer\n",
        "from nltk.tokenize import WordPunctTokenizer\n",
        "\n",
        "import re\n",
        "\n",
        "import matplotlib.pyplot as plt\n",
        "plt.style.use('fivethirtyeight')"
      ],
      "execution_count": 39,
      "outputs": [
        {
          "output_type": "stream",
          "text": [
            "[nltk_data] Downloading package punkt to /root/nltk_data...\n",
            "[nltk_data]   Package punkt is already up-to-date!\n",
            "[nltk_data] Downloading package stopwords to /root/nltk_data...\n",
            "[nltk_data]   Package stopwords is already up-to-date!\n"
          ],
          "name": "stdout"
        }
      ]
    },
    {
      "cell_type": "code",
      "metadata": {
        "id": "gNBdFtK1Omdr"
      },
      "source": [
        "from google.colab import files\r\n"
      ],
      "execution_count": 30,
      "outputs": []
    },
    {
      "cell_type": "code",
      "metadata": {
        "id": "Uy676AKEJi8T"
      },
      "source": [
        "file = 'credentials.csv'\r\n",
        "credentials= pd.read_csv(file)"
      ],
      "execution_count": 31,
      "outputs": []
    },
    {
      "cell_type": "code",
      "metadata": {
        "id": "PQc9rTYVJklG"
      },
      "source": [
        "api_key = credentials['Key'][0]\r\n",
        "api_secretkey = credentials['Key'][1]\r\n",
        "access_key = credentials['Key'][2]\r\n",
        "access_secretkey = credentials['Key'][3]"
      ],
      "execution_count": 25,
      "outputs": []
    },
    {
      "cell_type": "code",
      "metadata": {
        "id": "uxm_rW3yJ5ge"
      },
      "source": [
        "authenticate = tweepy.OAuthHandler(api_key, api_secretkey)\r\n",
        "authenticate.set_access_token(access_key, access_secretkey)\r\n",
        "api = tweepy.API(authenticate, wait_on_rate_limit=True) "
      ],
      "execution_count": 26,
      "outputs": []
    },
    {
      "cell_type": "code",
      "metadata": {
        "colab": {
          "base_uri": "https://localhost:8080/"
        },
        "id": "QKqdhNEK_F9l",
        "outputId": "72a2e02c-050d-409d-83bf-40894af23ac6"
      },
      "source": [
        "posts = api.search(q ='#AAPL', count = 10000, lang = \"en\", tweet_mode=\"extended\")\r\n",
        "\r\n",
        "print(\"Last 5 posts: \\n\")\r\n",
        "i = 1\r\n",
        "for tweet in posts[0:5]:\r\n",
        "    print(str(i) + ')'+ tweet.full_text + '\\n')\r\n",
        "    i = i+1\r\n"
      ],
      "execution_count": 42,
      "outputs": [
        {
          "output_type": "stream",
          "text": [
            "Last 5 posts: \n",
            "\n",
            "1)RT @cryptoexp76258C: #AUDCAD Both TPs hit! 70 Pips Profit✅🔥\n",
            "\n",
            "For Free signals, Join https://t.co/PXLBnt0aio\n",
            "\n",
            "#forex #aapl #SP500 #fx #S&amp;P50…\n",
            "\n",
            "2)#AUDCAD Both TPs hit! 70 Pips Profit✅🔥\n",
            "\n",
            "For Free signals, Join https://t.co/PXLBnt0aio\n",
            "\n",
            "#forex #aapl #SP500 #fx #S&amp;P500 #ES_F #usoil #DOW #bitcoin #BTC #SPY #PIPS #xauusd #SPX #crudeoil #DJIA #stocks 88866 https://t.co/hr65w0MXpu\n",
            "\n",
            "3)Apple should come out with apps to replace Facebook, Instagram, WhatsApp. Make them available for all, not just iOS. FB would be toast. AAPL has the resources to do it. All for the greater good of humanity.\n",
            " @tim_cook @GerberKawasaki #AAPL #merryxmaszuck\n",
            "\n",
            "4)@anasalhajji Should buy #AAPL and #TSLA ‼️\n",
            "\n",
            "5)#AUDCAD Both TPs hit! 70 Pips Profit✅🔥\n",
            "\n",
            "Get Daily Forex Signals at https://t.co/PxlnMaDUDo\n",
            "\n",
            "#nasdaq #xauusd #fx #aapl #silver #DJI #BTC #CHFJPY #bitcoin #gold #stocks #usoil #GER30 #DAX30 #crudeoil #forex #NZDUSD 14627 https://t.co/tFyNn8qD8I\n",
            "\n"
          ],
          "name": "stdout"
        }
      ]
    },
    {
      "cell_type": "code",
      "metadata": {
        "id": "KSeZ-L16uNWv",
        "colab": {
          "base_uri": "https://localhost:8080/",
          "height": 194
        },
        "outputId": "197260e6-e785-4f3b-e261-6445487c8626"
      },
      "source": [
        "df = pd.DataFrame([tweet.full_text for tweet in posts] , columns = ['Tweets'])\r\n",
        "df.head()"
      ],
      "execution_count": 48,
      "outputs": [
        {
          "output_type": "execute_result",
          "data": {
            "text/html": [
              "<div>\n",
              "<style scoped>\n",
              "    .dataframe tbody tr th:only-of-type {\n",
              "        vertical-align: middle;\n",
              "    }\n",
              "\n",
              "    .dataframe tbody tr th {\n",
              "        vertical-align: top;\n",
              "    }\n",
              "\n",
              "    .dataframe thead th {\n",
              "        text-align: right;\n",
              "    }\n",
              "</style>\n",
              "<table border=\"1\" class=\"dataframe\">\n",
              "  <thead>\n",
              "    <tr style=\"text-align: right;\">\n",
              "      <th></th>\n",
              "      <th>Tweets</th>\n",
              "    </tr>\n",
              "  </thead>\n",
              "  <tbody>\n",
              "    <tr>\n",
              "      <th>0</th>\n",
              "      <td>RT @cryptoexp76258C: #AUDCAD Both TPs hit! 70 ...</td>\n",
              "    </tr>\n",
              "    <tr>\n",
              "      <th>1</th>\n",
              "      <td>#AUDCAD Both TPs hit! 70 Pips Profit✅🔥\\n\\nFor ...</td>\n",
              "    </tr>\n",
              "    <tr>\n",
              "      <th>2</th>\n",
              "      <td>Apple should come out with apps to replace Fac...</td>\n",
              "    </tr>\n",
              "    <tr>\n",
              "      <th>3</th>\n",
              "      <td>@anasalhajji Should buy #AAPL and #TSLA ‼️</td>\n",
              "    </tr>\n",
              "    <tr>\n",
              "      <th>4</th>\n",
              "      <td>#AUDCAD Both TPs hit! 70 Pips Profit✅🔥\\n\\nGet ...</td>\n",
              "    </tr>\n",
              "  </tbody>\n",
              "</table>\n",
              "</div>"
            ],
            "text/plain": [
              "                                              Tweets\n",
              "0  RT @cryptoexp76258C: #AUDCAD Both TPs hit! 70 ...\n",
              "1  #AUDCAD Both TPs hit! 70 Pips Profit✅🔥\\n\\nFor ...\n",
              "2  Apple should come out with apps to replace Fac...\n",
              "3         @anasalhajji Should buy #AAPL and #TSLA ‼️\n",
              "4  #AUDCAD Both TPs hit! 70 Pips Profit✅🔥\\n\\nGet ..."
            ]
          },
          "metadata": {
            "tags": []
          },
          "execution_count": 48
        }
      ]
    },
    {
      "cell_type": "code",
      "metadata": {
        "colab": {
          "base_uri": "https://localhost:8080/",
          "height": 194
        },
        "id": "Yu8mpGv1Q62i",
        "outputId": "72a9bf4d-d289-4ff7-aba5-3ed30aab75d4"
      },
      "source": [
        "#cleaning text\r\n",
        "def clean_tweets(tweet):\r\n",
        "    user_removed = re.sub(r'@[A-Za-z0-9]+','',tweet)\r\n",
        "    link_removed = re.sub('https?://[A-Za-z0-9./]+','',user_removed)\r\n",
        "    only_alphanumeric = re.sub('[^a-zA-Z0-9]', ' ', user_removed)\r\n",
        "    lower_case_tweet = only_alphanumeric .lower()\r\n",
        "    tok = WordPunctTokenizer()\r\n",
        "    words = tok.tokenize(lower_case_tweet)\r\n",
        "    clean_tweet = (' '.join(words)).strip()\r\n",
        "    return clean_tweet\r\n",
        "\r\n",
        "df['Tweets'] = df['Tweets'].apply(clean_tweets)\r\n",
        "df.head()\r\n"
      ],
      "execution_count": 50,
      "outputs": [
        {
          "output_type": "execute_result",
          "data": {
            "text/html": [
              "<div>\n",
              "<style scoped>\n",
              "    .dataframe tbody tr th:only-of-type {\n",
              "        vertical-align: middle;\n",
              "    }\n",
              "\n",
              "    .dataframe tbody tr th {\n",
              "        vertical-align: top;\n",
              "    }\n",
              "\n",
              "    .dataframe thead th {\n",
              "        text-align: right;\n",
              "    }\n",
              "</style>\n",
              "<table border=\"1\" class=\"dataframe\">\n",
              "  <thead>\n",
              "    <tr style=\"text-align: right;\">\n",
              "      <th></th>\n",
              "      <th>Tweets</th>\n",
              "    </tr>\n",
              "  </thead>\n",
              "  <tbody>\n",
              "    <tr>\n",
              "      <th>0</th>\n",
              "      <td>rt audcad both tps hit 70 pips profit for free...</td>\n",
              "    </tr>\n",
              "    <tr>\n",
              "      <th>1</th>\n",
              "      <td>audcad both tps hit 70 pips profit for free si...</td>\n",
              "    </tr>\n",
              "    <tr>\n",
              "      <th>2</th>\n",
              "      <td>apple should come out with apps to replace fac...</td>\n",
              "    </tr>\n",
              "    <tr>\n",
              "      <th>3</th>\n",
              "      <td>should buy aapl and tsla</td>\n",
              "    </tr>\n",
              "    <tr>\n",
              "      <th>4</th>\n",
              "      <td>audcad both tps hit 70 pips profit get daily f...</td>\n",
              "    </tr>\n",
              "  </tbody>\n",
              "</table>\n",
              "</div>"
            ],
            "text/plain": [
              "                                              Tweets\n",
              "0  rt audcad both tps hit 70 pips profit for free...\n",
              "1  audcad both tps hit 70 pips profit for free si...\n",
              "2  apple should come out with apps to replace fac...\n",
              "3                           should buy aapl and tsla\n",
              "4  audcad both tps hit 70 pips profit get daily f..."
            ]
          },
          "metadata": {
            "tags": []
          },
          "execution_count": 50
        }
      ]
    },
    {
      "cell_type": "code",
      "metadata": {
        "colab": {
          "base_uri": "https://localhost:8080/",
          "height": 194
        },
        "id": "bvcti1BE0Bir",
        "outputId": "499bcb0a-ddf9-4366-8bbf-b43aad21ea92"
      },
      "source": [
        "#removing stopwords\r\n",
        "df['Tweets'] = df['Tweets'].apply(lambda x: ' '.join([word for word in x.split() if word not in (stop)]))\r\n",
        "df.head()"
      ],
      "execution_count": 73,
      "outputs": [
        {
          "output_type": "execute_result",
          "data": {
            "text/html": [
              "<div>\n",
              "<style scoped>\n",
              "    .dataframe tbody tr th:only-of-type {\n",
              "        vertical-align: middle;\n",
              "    }\n",
              "\n",
              "    .dataframe tbody tr th {\n",
              "        vertical-align: top;\n",
              "    }\n",
              "\n",
              "    .dataframe thead th {\n",
              "        text-align: right;\n",
              "    }\n",
              "</style>\n",
              "<table border=\"1\" class=\"dataframe\">\n",
              "  <thead>\n",
              "    <tr style=\"text-align: right;\">\n",
              "      <th></th>\n",
              "      <th>Tweets</th>\n",
              "      <th>Subjectivity</th>\n",
              "      <th>Polarity</th>\n",
              "      <th>Analysis</th>\n",
              "    </tr>\n",
              "  </thead>\n",
              "  <tbody>\n",
              "    <tr>\n",
              "      <th>0</th>\n",
              "      <td>rt audcad tps hit 70 pips profit free signals ...</td>\n",
              "      <td>0.8</td>\n",
              "      <td>0.400000</td>\n",
              "      <td>Positive</td>\n",
              "    </tr>\n",
              "    <tr>\n",
              "      <th>1</th>\n",
              "      <td>audcad tps hit 70 pips profit free signals joi...</td>\n",
              "      <td>0.8</td>\n",
              "      <td>0.400000</td>\n",
              "      <td>Positive</td>\n",
              "    </tr>\n",
              "    <tr>\n",
              "      <th>2</th>\n",
              "      <td>apple come apps replace facebook instagram wha...</td>\n",
              "      <td>0.5</td>\n",
              "      <td>0.533333</td>\n",
              "      <td>Positive</td>\n",
              "    </tr>\n",
              "    <tr>\n",
              "      <th>3</th>\n",
              "      <td>buy aapl tsla</td>\n",
              "      <td>0.0</td>\n",
              "      <td>0.000000</td>\n",
              "      <td>Neutral</td>\n",
              "    </tr>\n",
              "    <tr>\n",
              "      <th>4</th>\n",
              "      <td>audcad tps hit 70 pips profit get daily forex ...</td>\n",
              "      <td>0.0</td>\n",
              "      <td>0.000000</td>\n",
              "      <td>Neutral</td>\n",
              "    </tr>\n",
              "  </tbody>\n",
              "</table>\n",
              "</div>"
            ],
            "text/plain": [
              "                                              Tweets  ...  Analysis\n",
              "0  rt audcad tps hit 70 pips profit free signals ...  ...  Positive\n",
              "1  audcad tps hit 70 pips profit free signals joi...  ...  Positive\n",
              "2  apple come apps replace facebook instagram wha...  ...  Positive\n",
              "3                                      buy aapl tsla  ...   Neutral\n",
              "4  audcad tps hit 70 pips profit get daily forex ...  ...   Neutral\n",
              "\n",
              "[5 rows x 4 columns]"
            ]
          },
          "metadata": {
            "tags": []
          },
          "execution_count": 73
        }
      ]
    },
    {
      "cell_type": "code",
      "metadata": {
        "colab": {
          "base_uri": "https://localhost:8080/"
        },
        "id": "72gwvqooVvEx",
        "outputId": "f7d32f5a-c00d-4619-f907-4c4852311ce2"
      },
      "source": [
        "df.dtypes"
      ],
      "execution_count": 74,
      "outputs": [
        {
          "output_type": "execute_result",
          "data": {
            "text/plain": [
              "Tweets           object\n",
              "Subjectivity    float64\n",
              "Polarity        float64\n",
              "Analysis         object\n",
              "dtype: object"
            ]
          },
          "metadata": {
            "tags": []
          },
          "execution_count": 74
        }
      ]
    },
    {
      "cell_type": "code",
      "metadata": {
        "colab": {
          "base_uri": "https://localhost:8080/"
        },
        "id": "XNhKMrjVV1--",
        "outputId": "acb2f4af-36cd-467f-f402-eed9f641e3c0"
      },
      "source": [
        "#warum funktioniert die auskommentierte methode net? wird doch ein string übergeben?\r\n",
        "\r\n",
        "\r\n",
        "df_string['Tweets'] = df['Tweets'].astype(str)\r\n",
        "\r\n",
        "wc_text =  ' '.join(word for word in df_string['Tweets'])\r\n",
        "print(wc_text)\r\n",
        "\r\n",
        "df_string.dtype\r\n",
        "#WordCloud.generate(wc_text)\r\n",
        "\r\n",
        "\r\n",
        "\r\n",
        "df_string.dtypes\r\n",
        "\r\n"
      ],
      "execution_count": 125,
      "outputs": [
        {
          "output_type": "stream",
          "text": [
            "rt audcad tps hit 70 pips profit free signals join https co pxlbnt0aio forex aapl sp500 fx amp p50 audcad tps hit 70 pips profit free signals join https co pxlbnt0aio forex aapl sp500 fx amp p500 es f usoil dow bitcoin btc spy pips xauusd spx crudeoil djia stocks 88866 https co hr65w0mxpu apple come apps replace facebook instagram whatsapp make available ios fb would toast aapl resources greater good humanity cook aapl merryxmaszuck buy aapl tsla audcad tps hit 70 pips profit get daily forex signals https co pxlnmadudo nasdaq xauusd fx aapl silver dji btc chfjpy bitcoin gold stocks usoil ger30 dax30 crudeoil forex nzdusd 14627 https co tfynn8qd8i audcad tps hit 70 pips profit forex signals join https co kplelwvuhi fx crudeoil eurtry eurgbp xauusd usdtry aapl forex stocks forexsignals forextrading usoil btc bitcoin ftse forexmarket wti 59602 https co 6tt8yszhko rt automotive apple potentially coming electric car tesla currently dominating industry legac apple potentially coming electric car tesla currently dominating industry legacy brand automakers stand chance transitioning successfully ev space apple tesla aapl tsla timcook elonmusk ev https co 3osvufrtts apple car pop tesla model 2 price 25k amp fsd road buy probably expensive apple car 2025 interesting tsla aapl 1000 pips profit 12 days join free signals https co 5ixqzbzq65 audjpy stocks xauusd forextrading usoil gbpjpy nflx forexsignals eurgbp forex btc aapl bitcoin fx euraud crudeoil forexmarket 64293 https co wjieiqfmzw please dm us questions want help traders check website join discord ho ho ho aapl eurgbp tp1 done 70 pips secured get daily forex signals https co fnia4mh0wa forex crudeoil nflx aapl euraud fx btc gbpjpy usoil audjpy amzn xagusd bitcoin xauusd stocks forexsignals eurgbp 8329 https co dadf4xkiue eurgbp tp1 done 70 pips secured forex signals join https co gwgcevqudw audjpy amzn eurgbp aapl gbpjpy forex forexsignals euraud usoil nflx bitcoin fx btc xagusd xauusd stocks crudeoil 50288 https co w1hzcznmvo would engineer prefer work apple tesla higher salary tsla aapl rt epic comment well done freeing cash well sales mistake today aapl underlined instead taking qqq weakness short entry signal trying anticipate fail hod waited reversal candle appear darkcloudcover engulfingcandle etc lessonlearned https co 1y9ej2fdaa rt moves apple inc price close 2020 12 24 131 97 apple aapl apple inc price close 2020 12 24 131 97 apple aapl 400 pips entry free signals join https co bs3ludthjl nflx forextrading gbpjpy euraud usoil audjpy bitcoin stocks eurgbp forexmarket crudeoil forex forexsignals aapl xauusd fx btc 1323 https co 8ayksjkbr3 chosen top 5 stocks 2021 stock picking challenge including aapl tsla rbd pat arb add chance win great prizes https co bmcakthqrm stockpicks2021 rt equities aapl rises highest close since september 1st https co mbrelcjryp sentiment neutral aapl apple aapl rises highest close since september 1st https co mbrelcjryp sentiment neutral aapl apple eurusd target hit 155 pips profit get daily forex signals https co lplvwar6km aapl usoil xauusd usdtry eurtry crudeoil ftse fx stocks forextrading bitcoin btc forex forexsignals wti forexmarket eurgbp 35799 https co e6kjdicnru basically caught 1 move aapl open saw weakness qqq entered short break high expecting fail right away confident hold got impatient closed dailygoal bbtfamily https co iqdbnuzybl trade stocks like fb aapl amzn amd googl tsla amp etf like spy gdx indices like spx ym f nq f es f commodities cryptocurrency like btc forex get free trial christmas special available gt https co maciyqq3f2 https co 4tnnqr6ejr https co owhr9ybdai many us happy aapl split finally making iphone money eurusd target hit 155 pips profit forex signals join https co dffb9rqdgi dax30 xauusd aapl dji chfjpy forex nasdaq fx bitcoin stocks nzdusd usoil gold silver crudeoil ger30 btc 77422 https co jwualgtydv apple ev calc lithium titanate self driving wheel car rather transportation imagined aapl way chosen top 5 stocks 2021 stock picking challenge including googl aapl msft tsla syme add chance win great prizes https co snfd34zvfh stockpicks2021 aapl short 114 115 pton short 114 also tsla short 545 595 min loss 140 points combined plus spy qqq shorts 6 10 losses addition holy crap destroys 1 2 years work real money ass watch trading stocks equities big tech faang https co 5pcyztb7dz technolgy bigtech faang batman aapl msft amzn fb goog tsla nvda nflx baba investment trading trade stocks equities spx spy es es f nq nq f ndx qqq dji dia ym f rut rty f iwm watch trading stocks equities big tech faang https co 5pcyztb7dz technolgy bigtech faang batman aapl msft amzn fb goog tsla nvda nflx baba investment trading trade stocks equities spx spy es es f nq nq f ndx qqq dji dia ym f rty f rut iwm big breakout incoming aapl chart https co rgkfcn5x0q rt new video youtube check link channel bio aapl apple msft microsoft ba boeing investingass new video youtube check link channel bio aapl apple msft microsoft ba boeing investingassist youtube youtuber subscribe pypl paypal arkk qqq voo stocks stockmarket etf jnug nio baba alibaba https co eeqkrepvnu think aapl great company dead stevejobs tesla great company living elon musk figure people usdcad target hit 150 pips profit forex signals join https co 8qny32cu9h fx usoil aapl pips crudeoil sp500 spy es f djia xauusd amp p500 bitcoin stocks btc spx dow forex 85358 https co okywzjm2bt buy american apple pie american apple phones aapl stockmarketnews usdcad target hit 150 pips profit free signals join https co ifi7owdi9t xauusd spx amp p500 spy forex usoil stocks sp500 aapl bitcoin crudeoil xagusd amzn es f btc fx pips 81774 https co ymophkduup aapl amzn spy etf reach 500 2022 https co k7foswssdt https co nnbrexw6e3 short day today probably low volume maybe consider quick trade 3680 otherwise merry christmas es f spx ndx spy aapl amzn bng stimuluschecks2000 rt tradingview aapl apple arriva la apple car tradingview https co cmimmsiwvx rt stock market could crash covid next year via https co mvfn9w4ajf warning es f msft oott oatt aapl amzn 3 etfs affected tesla amp p 500 addition https co xepcgmfnqe https co vxi39zoliw aapl amzn genomic stocks next fang stocks https co pglybyjkjy https co mwzbsk85cl stock market could crash covid next year via https co mvfn9w4ajf warning es f msft oott oatt spy spx trading fb forexsignals eurusd tsla opec volatility vix vxx futures sp500 amzn googl etf nasdaq nasdaq100 tsla aapl faang apple aapl merry christmas early close 13 00 aapl long short btc trade8 https co ox1y3jpuad https co tuejtwuamw wallstreet stocks gained 2020 nflx amzn aapl spot nasdaq nyse source https co ujcja0tpmn trade like machine capitaliseai https co 1eb0duigir nzdcad target hit 90 pips profit get daily forex signals https co k6dt52qr4m stocks sp500 ger30 dji forex spy amp p500 bitcoin aapl usoil spx pips xauusd fx crudeoil btc es f 78396 https co imdaokmsy6 nzdcad target hit 90 pips profit join free signals https co ofbtofy1vo sp500 forex fx dji btc amp p500 ger30 aapl xauusd es f crudeoil stocks usoil spx pips bitcoin spy 83598 https co 91omommjb3 rt improvements siri app icon shortcuts function apple iphone ios14homescreen designinspiration de rt improvements siri app icon shortcuts function apple iphone ios14homescreen designinspiration de rt improvements siri app icon shortcuts function apple iphone ios14homescreen designinspiration de improvements siri app icon shortcuts function apple iphone ios14homescreen designinspiration designthinking aapl edtech twitch startup ios14 designtalk jailbreak robloxdev shit bot https co 8qthkwtqhg savage really enjoying content tsla becomes huge threat aapl attention user aapl wants user base use app store car content especially fsd robo taxis rt aapl stock rise latest reports self driving apple car plan https co b0xtgewnsd apple applecar aapl c aapl stock rise latest reports self driving apple car plan https co b0xtgewnsd apple applecar aapl coinspeaker https co 6hsdgsv4op good rythem amp blue original collections produced djblcklord xdr blacklord wreckords lt good gt aapl soundcloud https co 2kdl3bhufo italia rt apple continues rise driven higher iphone production data aapl stock 4 reaching highest point sinc apple continues rise driven higher iphone production data aapl stock 4 reaching highest point since september ready get marketaction trade global leader crypto trading https co qvqq9bcsoh trading carries risk loss https co lovtkzc7uc eurnzd tp2 hit 180 pips profit free signals join https co srpxphcvui btc pips xagusd spy bitcoin xauusd amp p500 es f forex fx aapl spx usoil stocks crudeoil sp500 amzn 12823 https co mlixcnjhj7 eurnzd tp2 hit 180 pips profit forex signals join https co jpf3gx3ry2 bitcoin fx aapl es f stocks usoil pips spy forex amp p500 djia spx btc xauusd sp500 dow crudeoil 52490 https co aglxklgpve aapl apple making ev amp good enough reason invest check ben alaimo motivation2invest deep dives apple stock ev project also see uses stock card research https co 9ntd3nxe4g aapl evs trade stocks like fb aapl amzn amd googl tsla amp etf like spy gdx indices like spx ym f nq f es f commodities cryptocurrency like btc forex get free trial christmas special available gt https co maciyqq3f2 https co vf6c4gil9w https co wbjcejwsrg group 1 2 amp 3 daily live trading rooms elliottwave analysis session video recordings available members viewing https co x2kmaka6ui spy aapl fb amzn googl tsla ym f usdx eurusd usdjpy cl f es f nq f btc https co lylzxuygdm aapl update aapl reached target 3 15 entry https co xfi9m3n58v usdjpy tp2 hit 127 pips profit forex signals join https co adm92xbwsj silver aapl gold ger30 bitcoin nasdaq crudeoil forex xauusd usoil dji btc fx chfjpy dax30 stocks nzdusd 59494 https co stprpzded2 rt another variation ios14icons minimalist style apple iphone ios14homescreen designinspiration fashionstyle designt rt another variation ios14icons minimalist style apple iphone ios14homescreen designinspiration fashionstyle designt rt another variation ios14icons minimalist style apple iphone ios14homescreen designinspiration fashionstyle designt another variation ios14icons minimalist style apple iphone ios14homescreen designinspiration fashionstyle designthinking aapl edtech twitch startup ctbot env art https co 8qthkwtqhg https co j9gycwgeae want get free stock share worth 100 create trading 212 invest account using link https co 02wccmbhku get free share invest stocks spac jagx aapl aapl elys radar gambling online casino bet dkng penn nio tsla aapl tsnp segi inqd sndl mvis uavs etfm arkk gbpaud 145 pips profit join free signals https co pbzgo9jqbr eurtry xauusd usdtry fx aapl usoil forextrading crudeoil stocks wti forex bitcoin eurgbp forexsignals forexmarket btc ftse 68937 https co iuplnakzgr signals print real time solidly print algorithm solidified anticipated move whether tsla aapl tradingstrategy tradingbot https co id18fvq187 rt moves apple inc price close 2020 12 23 130 96 apple aapl apple inc price close 2020 12 23 130 96 apple aapl aapl 128 31 gap still open aapl chart https co 0zansjby0p sitting well 1 2 way mark 50k challenge trading spy stock investing market money nypd lawenforcementfamily nyc nyfinest spy aapl tsla apple tesla nio emt fdny firstresponders https co kptscsjffw gbpaud 145 pips profit free signals join https co pwwicb46ho xauusd euraud bitcoin forexmarket fx forex forextrading stocks crudeoil eurgbp gbpjpy forexsignals audjpy usoil aapl nflx btc 85959 https co 1irsrv5ndl 0 many 50k aapl like outsource mft magna aapl analystcolor 10 things apple investors may wish 2021 https co taj63vnavr https co 4vmtqu27ci rt equities aapl dominated bears dragging market lower throughout day https co fzfeyjmkdw sentiment neutral aapl aapl dominated bears dragging market lower throughout day https co fzfeyjmkdw sentiment neutral aapl apple free trial available https co x2kmaka6ui spy gdx xme xle iyr aapl fb amzn nflx googl msft nvda amd tsla baba xom bac nke ge spx nkd f ftse dax ym f usdx eurusd gbpusd gbpjpy usdjpy cl f hg f xauusd xagusd es f nq f rty f asx btc https co 65krnkmzae eurcad 275 pips profit forex signals join https co ni2q7zfooy euraud btc xagusd usoil forexsignals bitcoin stocks xauusd aapl amzn audjpy crudeoil eurgbp forex nflx gbpjpy fx 68122 https co wi1u2ngl5k 1k short 2020 day trading goal wish luck bull pin next days aapl wkhs nio pltr arkinvest xpev tna quean ride upro spce 3 3 special thanks cheryl helping feel sense belonging new aapl board member episode airs early 2021 stay tuned details hope listen share thoughts podcasts aapl masterphysicianleaders icfproud womeninwhitecoats md https co wcljy0onjf apple new apple one subscription bundles new way apple boost subscriptions bolster services business generated 14 55 billion 16 5 year year apple fiscal fourth quarter aapl https co llkngxooc1 patience dollar cost average time aapl trade like jimmy chill says apple proraw transform photography aapl https co sz8ikh3fsi aapl analystcolor apple analyst cupertino ev ambitions could play partnership tesla chinese ev brands https co x5fkzpu7wy https co wydpmsozb8 itm lfg aapl analytical network traders share ideas trades real time must features stockmarket investing robinhood webull sofi daytrading swingtrading wednesdaythought tsla faang aapl techmeme apple closed nearly 100 stores globally since december 14 including london california tennessee covid 19 cases surge michael steeber 9to5mac aapl https co hg3rz9c0ky aapl amzn much investing 1 000 bitcoin jan 1 2020 would worth https co orcwuew9oc https co cmqxmvbsgu boo boohoo bloom trading update 14th january probability good one asos onlineshopping aapl amazon https co omolmgyy1f nio 80 dollar 3 6month price target let go btc nio pltr ttcf lca spr aapl tsla li xpev fsr clsk older recording seasonality still almost exactly aapl aapl watch https co 7ks3vdbxsp\n"
          ],
          "name": "stdout"
        },
        {
          "output_type": "execute_result",
          "data": {
            "text/plain": [
              "dtype('O')"
            ]
          },
          "metadata": {
            "tags": []
          },
          "execution_count": 125
        }
      ]
    },
    {
      "cell_type": "code",
      "metadata": {
        "colab": {
          "base_uri": "https://localhost:8080/",
          "height": 204
        },
        "id": "NOprzEGgTsWb",
        "outputId": "9cb78195-3af9-42d9-eb00-9947e1dfd5c0"
      },
      "source": [
        "#text = \" \".join(posts for posts in df.Tweets.astype(str))\r\n",
        "\r\n",
        "WordCloud.generate_from_text(wc_text)"
      ],
      "execution_count": 110,
      "outputs": [
        {
          "output_type": "error",
          "ename": "TypeError",
          "evalue": "ignored",
          "traceback": [
            "\u001b[0;31m---------------------------------------------------------------------------\u001b[0m",
            "\u001b[0;31mTypeError\u001b[0m                                 Traceback (most recent call last)",
            "\u001b[0;32m<ipython-input-110-cc07789d5134>\u001b[0m in \u001b[0;36m<module>\u001b[0;34m()\u001b[0m\n\u001b[1;32m      1\u001b[0m \u001b[0;31m#text = \" \".join(posts for posts in df.Tweets.astype(str))\u001b[0m\u001b[0;34m\u001b[0m\u001b[0;34m\u001b[0m\u001b[0;34m\u001b[0m\u001b[0m\n\u001b[1;32m      2\u001b[0m \u001b[0;34m\u001b[0m\u001b[0m\n\u001b[0;32m----> 3\u001b[0;31m \u001b[0mWordCloud\u001b[0m\u001b[0;34m.\u001b[0m\u001b[0mgenerate_from_text\u001b[0m\u001b[0;34m(\u001b[0m\u001b[0mwc_text\u001b[0m\u001b[0;34m)\u001b[0m\u001b[0;34m\u001b[0m\u001b[0;34m\u001b[0m\u001b[0m\n\u001b[0m",
            "\u001b[0;31mTypeError\u001b[0m: generate_from_text() missing 1 required positional argument: 'text'"
          ]
        }
      ]
    },
    {
      "cell_type": "code",
      "metadata": {
        "colab": {
          "base_uri": "https://localhost:8080/",
          "height": 194
        },
        "id": "RDTt1Q_kyGgW",
        "outputId": "80b29d44-c159-41b3-887a-458674deb6a6"
      },
      "source": [
        "def getSubjectivity(clean_tweets):\r\n",
        "  return TextBlob(clean_tweets).sentiment.subjectivity\r\n",
        "\r\n",
        "def getPolarity(clean_tweets):\r\n",
        "  return TextBlob(clean_tweets).sentiment.polarity\r\n",
        "\r\n",
        "df['Subjectivity'] = df['Tweets'].apply(getSubjectivity)\r\n",
        "df['Polarity'] = df['Tweets'].apply(getPolarity)\r\n",
        "\r\n",
        "df.head()"
      ],
      "execution_count": 53,
      "outputs": [
        {
          "output_type": "execute_result",
          "data": {
            "text/html": [
              "<div>\n",
              "<style scoped>\n",
              "    .dataframe tbody tr th:only-of-type {\n",
              "        vertical-align: middle;\n",
              "    }\n",
              "\n",
              "    .dataframe tbody tr th {\n",
              "        vertical-align: top;\n",
              "    }\n",
              "\n",
              "    .dataframe thead th {\n",
              "        text-align: right;\n",
              "    }\n",
              "</style>\n",
              "<table border=\"1\" class=\"dataframe\">\n",
              "  <thead>\n",
              "    <tr style=\"text-align: right;\">\n",
              "      <th></th>\n",
              "      <th>Tweets</th>\n",
              "      <th>Subjectivity</th>\n",
              "      <th>Polarity</th>\n",
              "    </tr>\n",
              "  </thead>\n",
              "  <tbody>\n",
              "    <tr>\n",
              "      <th>0</th>\n",
              "      <td>rt audcad tps hit 70 pips profit free signals ...</td>\n",
              "      <td>0.8</td>\n",
              "      <td>0.400000</td>\n",
              "    </tr>\n",
              "    <tr>\n",
              "      <th>1</th>\n",
              "      <td>audcad tps hit 70 pips profit free signals joi...</td>\n",
              "      <td>0.8</td>\n",
              "      <td>0.400000</td>\n",
              "    </tr>\n",
              "    <tr>\n",
              "      <th>2</th>\n",
              "      <td>apple come apps replace facebook instagram wha...</td>\n",
              "      <td>0.5</td>\n",
              "      <td>0.533333</td>\n",
              "    </tr>\n",
              "    <tr>\n",
              "      <th>3</th>\n",
              "      <td>buy aapl tsla</td>\n",
              "      <td>0.0</td>\n",
              "      <td>0.000000</td>\n",
              "    </tr>\n",
              "    <tr>\n",
              "      <th>4</th>\n",
              "      <td>audcad tps hit 70 pips profit get daily forex ...</td>\n",
              "      <td>0.0</td>\n",
              "      <td>0.000000</td>\n",
              "    </tr>\n",
              "  </tbody>\n",
              "</table>\n",
              "</div>"
            ],
            "text/plain": [
              "                                              Tweets  Subjectivity  Polarity\n",
              "0  rt audcad tps hit 70 pips profit free signals ...           0.8  0.400000\n",
              "1  audcad tps hit 70 pips profit free signals joi...           0.8  0.400000\n",
              "2  apple come apps replace facebook instagram wha...           0.5  0.533333\n",
              "3                                      buy aapl tsla           0.0  0.000000\n",
              "4  audcad tps hit 70 pips profit get daily forex ...           0.0  0.000000"
            ]
          },
          "metadata": {
            "tags": []
          },
          "execution_count": 53
        }
      ]
    },
    {
      "cell_type": "code",
      "metadata": {
        "id": "wOx2YMcD1mEq"
      },
      "source": [
        "#Wordcloud"
      ],
      "execution_count": null,
      "outputs": []
    },
    {
      "cell_type": "code",
      "metadata": {
        "colab": {
          "base_uri": "https://localhost:8080/",
          "height": 194
        },
        "id": "77JIZqQ320VP",
        "outputId": "8ff90315-4c4b-4731-98c8-48ffbd6e2dae"
      },
      "source": [
        "def getAnalysis(score):\r\n",
        "  if score < 0:\r\n",
        "    return 'Negative'\r\n",
        "  elif score == 0:\r\n",
        "    return 'Neutral'\r\n",
        "  else:\r\n",
        "    return 'Positive'\r\n",
        "\r\n",
        "df['Analysis'] = df['Polarity'].apply(getAnalysis)\r\n",
        "df.head()"
      ],
      "execution_count": 54,
      "outputs": [
        {
          "output_type": "execute_result",
          "data": {
            "text/html": [
              "<div>\n",
              "<style scoped>\n",
              "    .dataframe tbody tr th:only-of-type {\n",
              "        vertical-align: middle;\n",
              "    }\n",
              "\n",
              "    .dataframe tbody tr th {\n",
              "        vertical-align: top;\n",
              "    }\n",
              "\n",
              "    .dataframe thead th {\n",
              "        text-align: right;\n",
              "    }\n",
              "</style>\n",
              "<table border=\"1\" class=\"dataframe\">\n",
              "  <thead>\n",
              "    <tr style=\"text-align: right;\">\n",
              "      <th></th>\n",
              "      <th>Tweets</th>\n",
              "      <th>Subjectivity</th>\n",
              "      <th>Polarity</th>\n",
              "      <th>Analysis</th>\n",
              "    </tr>\n",
              "  </thead>\n",
              "  <tbody>\n",
              "    <tr>\n",
              "      <th>0</th>\n",
              "      <td>rt audcad tps hit 70 pips profit free signals ...</td>\n",
              "      <td>0.8</td>\n",
              "      <td>0.400000</td>\n",
              "      <td>Positive</td>\n",
              "    </tr>\n",
              "    <tr>\n",
              "      <th>1</th>\n",
              "      <td>audcad tps hit 70 pips profit free signals joi...</td>\n",
              "      <td>0.8</td>\n",
              "      <td>0.400000</td>\n",
              "      <td>Positive</td>\n",
              "    </tr>\n",
              "    <tr>\n",
              "      <th>2</th>\n",
              "      <td>apple come apps replace facebook instagram wha...</td>\n",
              "      <td>0.5</td>\n",
              "      <td>0.533333</td>\n",
              "      <td>Positive</td>\n",
              "    </tr>\n",
              "    <tr>\n",
              "      <th>3</th>\n",
              "      <td>buy aapl tsla</td>\n",
              "      <td>0.0</td>\n",
              "      <td>0.000000</td>\n",
              "      <td>Neutral</td>\n",
              "    </tr>\n",
              "    <tr>\n",
              "      <th>4</th>\n",
              "      <td>audcad tps hit 70 pips profit get daily forex ...</td>\n",
              "      <td>0.0</td>\n",
              "      <td>0.000000</td>\n",
              "      <td>Neutral</td>\n",
              "    </tr>\n",
              "  </tbody>\n",
              "</table>\n",
              "</div>"
            ],
            "text/plain": [
              "                                              Tweets  ...  Analysis\n",
              "0  rt audcad tps hit 70 pips profit free signals ...  ...  Positive\n",
              "1  audcad tps hit 70 pips profit free signals joi...  ...  Positive\n",
              "2  apple come apps replace facebook instagram wha...  ...  Positive\n",
              "3                                      buy aapl tsla  ...   Neutral\n",
              "4  audcad tps hit 70 pips profit get daily forex ...  ...   Neutral\n",
              "\n",
              "[5 rows x 4 columns]"
            ]
          },
          "metadata": {
            "tags": []
          },
          "execution_count": 54
        }
      ]
    },
    {
      "cell_type": "code",
      "metadata": {
        "colab": {
          "base_uri": "https://localhost:8080/"
        },
        "id": "iXCTeshp3_Vo",
        "outputId": "18d3b066-cf0b-4975-ff96-3426b1e66fd6"
      },
      "source": [
        "#sortiert und print positiv\r\n",
        "j = 1\r\n",
        "sortedDF = df.sort_values(by = ['Polarity'])\r\n",
        "for i in range(0, sortedDF.shape[0]):\r\n",
        "  if(sortedDF['Analysis'][i]=='Positive'):\r\n",
        "    print(str(j) + ') '+sortedDF['Tweets'][i])\r\n",
        "    print()\r\n",
        "    j = j+1"
      ],
      "execution_count": 55,
      "outputs": [
        {
          "output_type": "stream",
          "text": [
            "1) rt audcad tps hit 70 pips profit free signals join https co pxlbnt0aio forex aapl sp500 fx amp p50\n",
            "\n",
            "2) audcad tps hit 70 pips profit free signals join https co pxlbnt0aio forex aapl sp500 fx amp p500 es f usoil dow bitcoin btc spy pips xauusd spx crudeoil djia stocks 88866 https co hr65w0mxpu\n",
            "\n",
            "3) apple come apps replace facebook instagram whatsapp make available ios fb would toast aapl resources greater good humanity cook aapl merryxmaszuck\n",
            "\n",
            "4) apple potentially coming electric car tesla currently dominating industry legacy brand automakers stand chance transitioning successfully ev space apple tesla aapl tsla timcook elonmusk ev https co 3osvufrtts\n",
            "\n",
            "5) 1000 pips profit 12 days join free signals https co 5ixqzbzq65 audjpy stocks xauusd forextrading usoil gbpjpy nflx forexsignals eurgbp forex btc aapl bitcoin fx euraud crudeoil forexmarket 64293 https co wjieiqfmzw\n",
            "\n",
            "6) would engineer prefer work apple tesla higher salary tsla aapl\n",
            "\n",
            "7) rt epic comment well done freeing cash well sales\n",
            "\n",
            "8) 400 pips entry free signals join https co bs3ludthjl nflx forextrading gbpjpy euraud usoil audjpy bitcoin stocks eurgbp forexmarket crudeoil forex forexsignals aapl xauusd fx btc 1323 https co 8ayksjkbr3\n",
            "\n",
            "9) chosen top 5 stocks 2021 stock picking challenge including aapl tsla rbd pat arb add chance win great prizes https co bmcakthqrm stockpicks2021\n",
            "\n",
            "10) basically caught 1 move aapl open saw weakness qqq entered short break high expecting fail right away confident hold got impatient closed dailygoal bbtfamily https co iqdbnuzybl\n",
            "\n",
            "11) trade stocks like fb aapl amzn amd googl tsla amp etf like spy gdx indices like spx ym f nq f es f commodities cryptocurrency like btc forex get free trial christmas special available gt https co maciyqq3f2 https co 4tnnqr6ejr https co owhr9ybdai\n",
            "\n",
            "12) many us happy aapl split finally making iphone money\n",
            "\n",
            "13) chosen top 5 stocks 2021 stock picking challenge including googl aapl msft tsla syme add chance win great prizes https co snfd34zvfh stockpicks2021\n",
            "\n",
            "14) rt new video youtube check link channel bio aapl apple msft microsoft ba boeing investingass\n",
            "\n",
            "15) new video youtube check link channel bio aapl apple msft microsoft ba boeing investingassist youtube youtuber subscribe pypl paypal arkk qqq voo stocks stockmarket etf jnug nio baba alibaba https co eeqkrepvnu\n",
            "\n",
            "16) think aapl great company dead stevejobs tesla great company living elon musk figure people\n",
            "\n",
            "17) usdcad target hit 150 pips profit free signals join https co ifi7owdi9t xauusd spx amp p500 spy forex usoil stocks sp500 aapl bitcoin crudeoil xagusd amzn es f btc fx pips 81774 https co ymophkduup\n",
            "\n",
            "18) short day today probably low volume maybe consider quick trade 3680 otherwise merry christmas es f spx ndx spy aapl amzn bng stimuluschecks2000\n",
            "\n",
            "19) apple aapl merry christmas early close 13 00 aapl long short btc trade8 https co ox1y3jpuad https co tuejtwuamw\n",
            "\n",
            "20) nzdcad target hit 90 pips profit join free signals https co ofbtofy1vo sp500 forex fx dji btc amp p500 ger30 aapl xauusd es f crudeoil stocks usoil spx pips bitcoin spy 83598 https co 91omommjb3\n",
            "\n",
            "21) savage really enjoying content tsla becomes huge threat aapl attention user aapl wants user base use app store car content especially fsd robo taxis\n",
            "\n",
            "22) rt aapl stock rise latest reports self driving apple car plan https co b0xtgewnsd apple applecar aapl c\n",
            "\n",
            "23) aapl stock rise latest reports self driving apple car plan https co b0xtgewnsd apple applecar aapl coinspeaker https co 6hsdgsv4op\n",
            "\n",
            "24) good rythem amp blue original collections produced djblcklord xdr blacklord wreckords lt good gt aapl soundcloud https co 2kdl3bhufo italia\n",
            "\n",
            "25) rt apple continues rise driven higher iphone production data aapl stock 4 reaching highest point sinc\n",
            "\n",
            "26) apple continues rise driven higher iphone production data aapl stock 4 reaching highest point since september ready get marketaction trade global leader crypto trading https co qvqq9bcsoh trading carries risk loss https co lovtkzc7uc\n",
            "\n",
            "27) eurnzd tp2 hit 180 pips profit free signals join https co srpxphcvui btc pips xagusd spy bitcoin xauusd amp p500 es f forex fx aapl spx usoil stocks crudeoil sp500 amzn 12823 https co mlixcnjhj7\n",
            "\n",
            "28) aapl apple making ev amp good enough reason invest check ben alaimo motivation2invest deep dives apple stock ev project also see uses stock card research https co 9ntd3nxe4g aapl evs\n",
            "\n",
            "29) trade stocks like fb aapl amzn amd googl tsla amp etf like spy gdx indices like spx ym f nq f es f commodities cryptocurrency like btc forex get free trial christmas special available gt https co maciyqq3f2 https co vf6c4gil9w https co wbjcejwsrg\n",
            "\n",
            "30) group 1 2 amp 3 daily live trading rooms elliottwave analysis session video recordings available members viewing https co x2kmaka6ui spy aapl fb amzn googl tsla ym f usdx eurusd usdjpy cl f es f nq f btc https co lylzxuygdm\n",
            "\n",
            "31) want get free stock share worth 100 create trading 212 invest account using link https co 02wccmbhku get free share invest stocks spac jagx aapl\n",
            "\n",
            "32) gbpaud 145 pips profit join free signals https co pbzgo9jqbr eurtry xauusd usdtry fx aapl usoil forextrading crudeoil stocks wti forex bitcoin eurgbp forexsignals forexmarket btc ftse 68937 https co iuplnakzgr\n",
            "\n",
            "33) signals print real time solidly print algorithm solidified anticipated move whether tsla aapl tradingstrategy tradingbot https co id18fvq187\n",
            "\n",
            "34) gbpaud 145 pips profit free signals join https co pwwicb46ho xauusd euraud bitcoin forexmarket fx forex forextrading stocks crudeoil eurgbp gbpjpy forexsignals audjpy usoil aapl nflx btc 85959 https co 1irsrv5ndl\n",
            "\n",
            "35) 0 many 50k aapl like outsource mft magna\n",
            "\n",
            "36) free trial available https co x2kmaka6ui spy gdx xme xle iyr aapl fb amzn nflx googl msft nvda amd tsla baba xom bac nke ge spx nkd f ftse dax ym f usdx eurusd gbpusd gbpjpy usdjpy cl f hg f xauusd xagusd es f nq f rty f asx btc https co 65krnkmzae\n",
            "\n",
            "37) 3 3 special thanks cheryl helping feel sense belonging new aapl board member episode airs early 2021 stay tuned details hope listen share thoughts podcasts aapl masterphysicianleaders icfproud womeninwhitecoats md https co wcljy0onjf\n",
            "\n",
            "38) apple new apple one subscription bundles new way apple boost subscriptions bolster services business generated 14 55 billion 16 5 year year apple fiscal fourth quarter aapl https co llkngxooc1\n",
            "\n",
            "39) analytical network traders share ideas trades real time must features stockmarket investing robinhood webull sofi daytrading swingtrading wednesdaythought tsla faang aapl\n",
            "\n",
            "40) aapl amzn much investing 1 000 bitcoin jan 1 2020 would worth https co orcwuew9oc https co cmqxmvbsgu\n",
            "\n",
            "41) boo boohoo bloom trading update 14th january probability good one asos onlineshopping aapl amazon https co omolmgyy1f\n",
            "\n",
            "42) older recording seasonality still almost exactly aapl aapl watch https co 7ks3vdbxsp\n",
            "\n"
          ],
          "name": "stdout"
        }
      ]
    },
    {
      "cell_type": "code",
      "metadata": {
        "id": "rPr9ccSn5Fn0"
      },
      "source": [
        "j = 1\r\n",
        "sortedDF = df.sort_values(by = ['Polarity'])\r\n",
        "for i in range(0, sortedDF.shape[0]):\r\n",
        "  if(sortedDF['Analysis'][i]=='Negative'):\r\n",
        "    print(str(j) + ') '+sortedDF['Tweets'][i])\r\n",
        "    print()\r\n",
        "    j = j+1"
      ],
      "execution_count": null,
      "outputs": []
    },
    {
      "cell_type": "code",
      "metadata": {
        "id": "DPGIvqlc62R4"
      },
      "source": [
        "plt.figure(figsize=(8,6))\r\n",
        "for i in range(0, df.shape[0]):\r\n",
        "  plt.scatter(df['Polarity'][i], df['Subjectivity'][i], color ='Blue' )\r\n",
        "\r\n",
        "plt.title('Sentiment Analysis')\r\n",
        "plt.xlabel('Polarity')\r\n",
        "plt.ylabel('Subjectivity')\r\n",
        "\r\n",
        "plt.show()"
      ],
      "execution_count": null,
      "outputs": []
    },
    {
      "cell_type": "code",
      "metadata": {
        "id": "Ghxm15ts7bBV"
      },
      "source": [
        "percentage_positive = df[df.Analysis =='Positive']\r\n",
        "percentage_positive = percentage_positive['Tweets']\r\n",
        "#float zu string damit % print geht\r\n",
        "\r\n",
        "print(str(round( (percentage_positive.shape[0] / df.shape[0]) * 100, 1))+\"% are positive tweets\")\r\n"
      ],
      "execution_count": null,
      "outputs": []
    },
    {
      "cell_type": "code",
      "metadata": {
        "id": "5G7hwhJj9Evj"
      },
      "source": [
        "percentage_negative = df[df.Analysis =='Negative']\r\n",
        "percentage_negative = percentage_negative['Tweets']\r\n",
        "#float zu string damit % print geht\r\n",
        "\r\n",
        "print(str(round( (percentage_negative.shape[0] / df.shape[0]) * 100, 1))+\"% are negative tweets\")"
      ],
      "execution_count": null,
      "outputs": []
    },
    {
      "cell_type": "code",
      "metadata": {
        "id": "io9xBAQP9QAJ"
      },
      "source": [
        "percentage_neutral = 100 - round( (percentage_positive.shape[0] / df.shape[0]) * 100, 1) -round( (percentage_negative.shape[0] / df.shape[0]) * 100, 1)\r\n",
        "percentage_neutral = str(round(percentage_neutral , 2))\r\n",
        "print(percentage_neutral + \"% are neutral tweets\")"
      ],
      "execution_count": null,
      "outputs": []
    },
    {
      "cell_type": "code",
      "metadata": {
        "colab": {
          "base_uri": "https://localhost:8080/",
          "height": 392
        },
        "id": "1-UDkAsr-EUQ",
        "outputId": "f2b8adf3-b6ba-4790-f0b8-e57e6c8741f8"
      },
      "source": [
        "df['Analysis'].value_counts()\r\n",
        "\r\n",
        "plt.title('Apple Stock Sentiment Analysis')\r\n",
        "plt.xlabel('Sentiment')\r\n",
        "plt.ylabel('Counts')\r\n",
        "df['Analysis'].value_counts().plot(kind = 'bar')\r\n",
        "plt.show"
      ],
      "execution_count": 56,
      "outputs": [
        {
          "output_type": "execute_result",
          "data": {
            "text/plain": [
              "<function matplotlib.pyplot.show>"
            ]
          },
          "metadata": {
            "tags": []
          },
          "execution_count": 56
        },
        {
          "output_type": "display_data",
          "data": {
            "image/png": "[encoded data removed]",
            "text/plain": [
              "<Figure size 432x288 with 1 Axes>"
            ]
          },
          "metadata": {
            "tags": []
          }
        }
      ]
    },
    {
      "cell_type": "code",
      "metadata": {
        "id": "uh45LpmovghE"
      },
      "source": [
        "# Tweepy kann nur Tweets finden die max. eine Woche alt sind. Funktioniert dafür mit GetOldTweets3: https://github.com/Jefferson-Henrique/GetOldTweets-python\r\n",
        "!pip install GetOldTweets3\r\n",
        "import GetOldTweets3 as got\r\n",
        "\r\n",
        "tweetCriteria = got.manager.TweetCriteria().setQuerySearch('#AAPL')\\\r\n",
        "                                           .setSince(\"2015-05-01\")\\\r\n",
        "                                           .setUntil(\"2015-09-30\")\\\r\n",
        "                                           .setMaxTweets(1)\r\n",
        "tweet = got.manager.TweetManager.getTweets(tweetCriteria)[0]\r\n",
        "print(tweet.text)\r\n",
        "\r\n",
        "#gibt aber nen fehler: TypeError: object of type 'NoneType' has no len() aus jupyter"
      ],
      "execution_count": null,
      "outputs": []
    }
  ]
}